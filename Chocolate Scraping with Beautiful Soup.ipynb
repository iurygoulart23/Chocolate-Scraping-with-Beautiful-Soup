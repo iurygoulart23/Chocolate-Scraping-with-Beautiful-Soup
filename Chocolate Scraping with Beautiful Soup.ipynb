{
 "cells": [
  {
   "cell_type": "markdown",
   "metadata": {},
   "source": [
    "# Chocolate Scraping with Beautiful Soup\n",
    "### After eating chocolate bars your whole life, you’ve decided to go on a quest to find the greatest chocolate bar in the world.\n",
    "\n",
    "- You’ve found a website that has over 1700 reviews of chocolate bars from all around the world. It’s displayed in the web browser on this page."
   ]
  },
  {
   "cell_type": "markdown",
   "metadata": {},
   "source": [
    "### Some questions we thought about when we found this dataset were:\n",
    "\n",
    "- Where are the best cocao beans grown?\n",
    "- Which countries produce the highest-rated bars?\n",
    "- What’s the relationship between cocao solids percentage and rating?"
   ]
  },
  {
   "cell_type": "code",
   "execution_count": 1,
   "metadata": {},
   "outputs": [],
   "source": [
    "#1 importing libraries\n",
    "import seaborn as sns\n",
    "from bs4 import BeautifulSoup\n",
    "import requests\n",
    "import pandas as pd\n",
    "import matplotlib.pyplot as plt\n",
    "import numpy as np"
   ]
  },
  {
   "cell_type": "code",
   "execution_count": 2,
   "metadata": {},
   "outputs": [],
   "source": [
    "#2 make a request to this site to get the raw HTML\n",
    "html_site = 'https://content.codecademy.com/courses/beautifulsoup/cacao/index.html'\n",
    "html_get = requests.get(html_site)"
   ]
  },
  {
   "cell_type": "code",
   "execution_count": 3,
   "metadata": {},
   "outputs": [],
   "source": [
    "#3 Create a BeautifulSoup object and 4 exploring\n",
    "html_webpage = html_get.content\n",
    "soup = BeautifulSoup(html_webpage, 'html.parser')\n"
   ]
  },
  {
   "cell_type": "code",
   "execution_count": 4,
   "metadata": {},
   "outputs": [],
   "source": [
    "#5 getting all of the tags that contain the ratings. and 6 creating an empty list called ratings to store all the ratings in.\n",
    "soup_rating_list = soup.find_all(attrs={'class':'Rating'})\n",
    "# soup_rating_text = soup_rating_list.get_text()"
   ]
  },
  {
   "cell_type": "code",
   "execution_count": 5,
   "metadata": {},
   "outputs": [
    {
     "name": "stdout",
     "output_type": "stream",
     "text": [
      "[3.75, 2.75, 3.0, 3.5, 3.5]\n"
     ]
    }
   ],
   "source": [
    "#7 Looping through the ratings tags and get the text contained in each one and converting the rating to a float\n",
    "ratings = [float(items.get_text()) for items in soup_rating_list[1:]]\n",
    "print(ratings[0:5])"
   ]
  },
  {
   "cell_type": "code",
   "execution_count": 6,
   "metadata": {},
   "outputs": [
    {
     "data": {
      "image/png": "[encoded data removed]",
      "text/plain": [
       "<Figure size 720x576 with 1 Axes>"
      ]
     },
     "metadata": {
      "needs_background": "light"
     },
     "output_type": "display_data"
    },
    {
     "data": {
      "text/plain": [
       "<Figure size 432x288 with 0 Axes>"
      ]
     },
     "metadata": {},
     "output_type": "display_data"
    }
   ],
   "source": [
    "#8 Using Matplotlib, create a histogram of the ratings values\n",
    "fig, ax = plt.subplots(figsize=(10, 8))\n",
    "plt.hist(ratings)\n",
    "ax.grid(visible=True, color ='grey', linestyle ='-.', linewidth = 0.5, alpha = 0.2)\n",
    "plt.title('Ratings', fontsize=16)\n",
    "plt.xlabel('ratings')\n",
    "plt.ylabel('counter')\n",
    "plt.show()\n",
    "plt.clf()"
   ]
  },
  {
   "cell_type": "code",
   "execution_count": 7,
   "metadata": {},
   "outputs": [
    {
     "name": "stdout",
     "output_type": "stream",
     "text": [
      "['A. Morin', 'A. Morin', 'A. Morin', 'A. Morin', 'A. Morin', 'A. Morin', 'A. Morin', 'A. Morin', 'A. Morin', 'A. Morin']\n"
     ]
    }
   ],
   "source": [
    "#9  we can do a groupby to find the ones with the highest average rating. \n",
    "# 10 we now want to make an empty list to hold company names. \n",
    "# 11 Looping through the tags containing company names, and adding the text from each tag to the list you just created.\n",
    "companies = [company.get_text() for company in soup.select('.Company')[1:]]\n",
    "df = pd.DataFrame.from_dict({'company': companies, 'rating': ratings})\n",
    "print(companies[:10])"
   ]
  },
  {
   "cell_type": "code",
   "execution_count": 8,
   "metadata": {},
   "outputs": [
    {
     "name": "stdout",
     "output_type": "stream",
     "text": [
      "company\n",
      "Tobago Estate (Pralus)                  4.000000\n",
      "Heirloom Cacao Preservation (Zokoko)    3.875000\n",
      "Ocelot                                  3.875000\n",
      "Amedei                                  3.846154\n",
      "Matale                                  3.812500\n",
      "Patric                                  3.791667\n",
      "Idilio (Felchlin)                       3.775000\n",
      "Acalli                                  3.750000\n",
      "Chocola'te                              3.750000\n",
      "Christopher Morel (Felchlin)            3.750000\n",
      "Name: rating, dtype: float64\n"
     ]
    }
   ],
   "source": [
    "#12, 13 Creating a DataFrame with a column “Company” corresponding to your companies list, and a column “Ratings”\n",
    "average_ratings = df.groupby('company').rating.mean()\n",
    "best_10 = average_ratings.nlargest(10)\n",
    "print(best_10)"
   ]
  },
  {
   "cell_type": "code",
   "execution_count": 32,
   "metadata": {},
   "outputs": [
    {
     "name": "stdout",
     "output_type": "stream",
     "text": [
      "CocoaOrigin\n",
      "Dom. Rep., Madagascar           4.00\n",
      "Gre., PNG, Haw., Haiti, Mad     4.00\n",
      "Guat., D.R., Peru, Mad., PNG    4.00\n",
      "Peru, Dom. Rep                  4.00\n",
      "Ven, Bolivia, D.R.              4.00\n",
      "Venezuela, Java                 4.00\n",
      "DR, Ecuador, Peru               3.75\n",
      "Dominican Rep., Bali            3.75\n",
      "PNG, Vanuatu, Mad               3.75\n",
      "Peru, Belize                    3.75\n",
      "Name: rating, dtype: float64\n"
     ]
    }
   ],
   "source": [
    "#15 wich country have the better cocoa bean?\n",
    "cocoa_origin = [origin.get_text() for origin in soup.select('.BroadBeanOrigin')[1:]]\n",
    "df['cocoa_origin'] = cocoa_origin\n",
    "best_10_cocoa_origin = df.groupby('CocoaOrigin').rating.mean().nlargest(10)\n",
    "\n",
    "print(best_10_cocoa_origin)"
   ]
  },
  {
   "cell_type": "code",
   "execution_count": 11,
   "metadata": {},
   "outputs": [],
   "source": [
    "#16 We want to see if the chocolate experts tend to rate chocolate bars with higher levels of cacoa to be better\n",
    "cocoa_percents = []\n",
    "cocoa_percent_tags = soup.select('.CocoaPercent')\n",
    "\n",
    "for each in cocoa_percent_tags[1:]:\n",
    "  percent = float(each.get_text().strip('%'))\n",
    "  cocoa_percents.append(percent)"
   ]
  },
  {
   "cell_type": "code",
   "execution_count": 12,
   "metadata": {},
   "outputs": [
    {
     "name": "stdout",
     "output_type": "stream",
     "text": [
      "    company  rating CocoaOrigin  CocoaPercentage\n",
      "0  A. Morin    3.75    Sao Tome             63.0\n",
      "1  A. Morin    2.75        Togo             70.0\n",
      "2  A. Morin    3.00        Togo             70.0\n",
      "3  A. Morin    3.50        Togo             70.0\n",
      "4  A. Morin    3.50        Peru             70.0\n"
     ]
    }
   ],
   "source": [
    "#17 Adding the cocoa percentages as a column called \"CocoaPercentage\" in the DataFrame that has companies and ratings in it.\n",
    "df['CocoaPercentage'] = cocoa_percents\n",
    "print(df.head())"
   ]
  },
  {
   "cell_type": "code",
   "execution_count": 13,
   "metadata": {},
   "outputs": [
    {
     "data": {
      "image/png": "[encoded data removed]",
      "text/plain": [
       "<Figure size 720x576 with 1 Axes>"
      ]
     },
     "metadata": {
      "needs_background": "light"
     },
     "output_type": "display_data"
    },
    {
     "name": "stdout",
     "output_type": "stream",
     "text": [
      "    company  rating CocoaOrigin  CocoaPercentage\n",
      "0  A. Morin    3.75    Sao Tome             63.0\n",
      "1  A. Morin    2.75        Togo             70.0\n",
      "2  A. Morin    3.00        Togo             70.0\n",
      "3  A. Morin    3.50        Togo             70.0\n",
      "4  A. Morin    3.50        Peru             70.0\n"
     ]
    },
    {
     "data": {
      "text/plain": [
       "<Figure size 432x288 with 0 Axes>"
      ]
     },
     "metadata": {},
     "output_type": "display_data"
    }
   ],
   "source": [
    "#18 Making a scatterplot of ratings \n",
    "fig, ax = plt.subplots(figsize=(10, 8))\n",
    "plt.scatter(df.CocoaPercentage, df.rating)\n",
    "z = np.polyfit(df.CocoaPercentage, df.rating, 1)\n",
    "line_function = np.poly1d(z)\n",
    "plt.plot(df.CocoaPercentage, line_function(df.CocoaPercentage), 'r--')\n",
    "plt.title('Rating x Cocoa Percentage')\n",
    "plt.xlabel('CocoaPercentage')\n",
    "plt.ylabel('Rating')\n",
    "plt.show()\n",
    "plt.clf()\n",
    "\n",
    "print(df.head())"
   ]
  }
 ],
 "metadata": {
  "interpreter": {
   "hash": "14c5b682b5672cfbdc0b9fb50430e6b8ad6c3d1ee4aebdd911d54f5cf8cc93d8"
  },
  "kernelspec": {
   "display_name": "Python 3.10.1 64-bit",
   "language": "python",
   "name": "python3"
  },
  "language_info": {
   "codemirror_mode": {
    "name": "ipython",
    "version": 3
   },
   "file_extension": ".py",
   "mimetype": "text/x-python",
   "name": "python",
   "nbconvert_exporter": "python",
   "pygments_lexer": "ipython3",
   "version": "3.10.1"
  },
  "orig_nbformat": 4
 },
 "nbformat": 4,
 "nbformat_minor": 2
}
